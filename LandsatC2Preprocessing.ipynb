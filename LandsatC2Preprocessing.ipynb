{
 "cells": [
  {
   "cell_type": "markdown",
   "id": "708f070f-0d15-42b2-a821-31c9349e6c9b",
   "metadata": {},
   "source": [
    "# Landsat Collection 2 Preprocessing"
   ]
  },
  {
   "cell_type": "markdown",
   "id": "eb771d96-39ab-444e-a58e-8e964ba20491",
   "metadata": {},
   "source": [
    "Code to preprocess Landsat Collection 2 surface reflectance imagery. Please report any bugs to Christopher Kibler (kibler@ucsb.edu)."
   ]
  },
  {
   "cell_type": "markdown",
   "id": "6b829162-0622-404f-9a1f-93f04ad60135",
   "metadata": {},
   "source": [
    "## Load Packages"
   ]
  },
  {
   "cell_type": "code",
   "execution_count": null,
   "id": "d97a012e-e0de-4e69-b504-6739b45394c6",
   "metadata": {},
   "outputs": [],
   "source": [
    "import numpy as np\n",
    "import rasterio\n",
    "import glob\n",
    "import os"
   ]
  },
  {
   "cell_type": "markdown",
   "id": "f61a6ff0-7ec5-4ed4-966c-613f77fc4abc",
   "metadata": {},
   "source": [
    "## Define Functions"
   ]
  },
  {
   "cell_type": "markdown",
   "id": "6b5e5845-257a-42bb-b076-60fe5c0847be",
   "metadata": {},
   "source": [
    "Build mask from Landat QA pixel band"
   ]
  },
  {
   "cell_type": "code",
   "execution_count": null,
   "id": "a1408c20-ea18-4f78-bc86-ed560bf6ed89",
   "metadata": {},
   "outputs": [],
   "source": [
    "def Landsat_C2_build_qa_pixel_mask(qa_pixel_img):\n",
    "    for q in [0, 2, 3, 4]: #List of QA bits that are not accepted\n",
    "        qa_pixel_img[np.bitwise_and(np.left_shift(1, q), qa_pixel_img) != 0] = 0\n",
    "    qa_pixel_img[qa_pixel_img != 0] = 255\n",
    "    return qa_pixel_img"
   ]
  },
  {
   "cell_type": "markdown",
   "id": "df142c47-b0bb-4bc9-934c-b162290de6ba",
   "metadata": {},
   "source": [
    "Preprocess Landsat Collection 2 surface reflectance imagery"
   ]
  },
  {
   "cell_type": "code",
   "execution_count": null,
   "id": "aeff4b8d-72ef-45b0-9662-8e180097e314",
   "metadata": {},
   "outputs": [],
   "source": [
    "def Landsat_C2_SR_preprocess(directory):\n",
    "    \n",
    "    #Load pixel QA band\n",
    "    with rasterio.open(glob.glob(directory + '/L*QA_PIXEL.tif')[0]) as img:\n",
    "        qa_pixel = img.read(1)\n",
    "        qa_pixel = Landsat_C2_build_qa_pixel_mask(qa_pixel)\n",
    "\n",
    "    #Load radiometric QA band and save metadata\n",
    "    with rasterio.open(glob.glob(directory + '/L*QA_RADSAT.tif')[0]) as img:\n",
    "        qa_radsat = img.read(1)\n",
    "        landsat_img_meta = img.meta\n",
    "\n",
    "    #Get file names for surface reflectance bands\n",
    "    SR_bands = glob.glob(directory + '/LC08*SR_B[2-7].tif') + glob.glob(directory + '/LE07*SR_B[1-7].tif') + glob.glob(directory + '/LT05*SR_B[1-7].tif')\n",
    "    \n",
    "    #Make sure that dataset contains the right number of bands\n",
    "    if len(SR_bands) != 6:\n",
    "        raise ValueError('Surface reflectance dataset does not contain six bands.')\n",
    "    \n",
    "    #Load bands indidivually and apply preprocessing corrections\n",
    "    arrs = []\n",
    "    for band in SR_bands:\n",
    "        with rasterio.open(band) as f:\n",
    "            layer = f.read(1)\n",
    "            layer = layer * 0.0000275 + (-0.2)\n",
    "            layer[qa_pixel == 0] = np.nan\n",
    "            layer[qa_radsat != 0] = np.nan\n",
    "            layer[layer > 1] = np.nan\n",
    "            layer[layer < 0] = np.nan\n",
    "            arrs.append(layer)\n",
    "        \n",
    "    # Convert the list of bands to a single numpy array\n",
    "    landsat_img = np.array(arrs, dtype=arrs[0].dtype)\n",
    "    \n",
    "    #Update metadata\n",
    "    landsat_img_meta.update(dtype = landsat_img.dtype, count = len(SR_bands))\n",
    "    \n",
    "    #Create image identifier\n",
    "    img_att = os.path.basename(glob.glob(directory + '/L*QA_PIXEL.tif')[0]).split(\"_\")\n",
    "    landsat_img_id = \"_\".join(img_att[0:7])\n",
    "    \n",
    "    return(landsat_img, landsat_img_meta, landsat_img_id)"
   ]
  },
  {
   "cell_type": "markdown",
   "id": "2b054d50-00d5-44cc-8a1b-2399a3c6e20a",
   "metadata": {},
   "source": [
    "Preprocess Landsat Collection 2 land surface temperature imagery"
   ]
  },
  {
   "cell_type": "code",
   "execution_count": null,
   "id": "9285cc29-ad49-40a4-a4a4-dde5fb614311",
   "metadata": {},
   "outputs": [],
   "source": [
    "def Landsat_C2_ST_preprocess(directory):    \n",
    "    \n",
    "    #Load pixel QA band and save metadata\n",
    "    with rasterio.open(glob.glob(directory + '/L*QA_PIXEL.tif')[0]) as img:\n",
    "        qa_pixel = img.read(1)\n",
    "        qa_pixel = Landsat_C2_build_qa_pixel_mask(qa_pixel)\n",
    "        landsat_lst_meta = img.meta\n",
    "    \n",
    "    #Get file name for LST band\n",
    "    LST_band = glob.glob(directory + '/LC08*ST_B10.tif') + glob.glob(directory + '/LE07*ST_B6.tif') + glob.glob(directory + '/LT05*ST_B6.tif')\n",
    "    \n",
    "    #Make sure that dataset contains the right number of bands\n",
    "    if len(LST_band) != 1:\n",
    "        raise ValueError('Land surface temperature dataset does not contain one band.')\n",
    "    \n",
    "    #Load LST band\n",
    "    with rasterio.open(LST_band[0]) as img:\n",
    "        landsat_lst = img.read(1)\n",
    "        landsat_lst =  landsat_lst * 0.00341802 + 149\n",
    "        landsat_lst[qa_pixel == 0] = np.nan\n",
    "    \n",
    "    #Update metadata\n",
    "    landsat_lst_meta.update(dtype = landsat_lst.dtype, count = 1)\n",
    "    \n",
    "    #Create image identifier\n",
    "    img_att = os.path.basename(glob.glob(directory + '/L*QA_PIXEL.tif')[0]).split(\"_\")\n",
    "    landsat_img_id = \"_\".join(img_att[0:7])\n",
    "    \n",
    "    return landsat_lst, landsat_lst_meta, landsat_img_id"
   ]
  },
  {
   "cell_type": "markdown",
   "id": "8ffb4717-dd1d-4b93-9b0b-9c24b9f0de13",
   "metadata": {},
   "source": [
    "## Execute Functions and Export Results"
   ]
  },
  {
   "cell_type": "code",
   "execution_count": null,
   "id": "89702796-94e5-4329-becb-3a5f3ffd0219",
   "metadata": {},
   "outputs": [],
   "source": [
    "#Directory that contains the image files for the individual bands downloaded from Earth Explorer\n",
    "directory = 'Images/LC08_L2SP_035038_20200607_20200824_02_T1'\n",
    "\n",
    "vswir, vswir_meta, vswir_id = Landsat_C2_SR_preprocess(directory)\n",
    "\n",
    "with rasterio.open(directory + '/' + vswir_id + '_vswir.tif', 'w', **vswir_meta) as dst:\n",
    "    dst.write(vswir)\n",
    "\n",
    "thermal, thermal_meta, thermal_id = Landsat_C2_ST_preprocess(directory)\n",
    "\n",
    "with rasterio.open(directory + '/' + thermal_id + '_thermal.tif', 'w', **thermal_meta) as dst:\n",
    "    dst.write(thermal, 1)"
   ]
  }
 ],
 "metadata": {
  "kernelspec": {
   "display_name": "Python 3 (ipykernel)",
   "language": "python",
   "name": "python3"
  },
  "language_info": {
   "codemirror_mode": {
    "name": "ipython",
    "version": 3
   },
   "file_extension": ".py",
   "mimetype": "text/x-python",
   "name": "python",
   "nbconvert_exporter": "python",
   "pygments_lexer": "ipython3",
   "version": "3.7.12"
  }
 },
 "nbformat": 4,
 "nbformat_minor": 5
}
